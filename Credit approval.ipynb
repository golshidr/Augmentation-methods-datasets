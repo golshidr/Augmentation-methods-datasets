{
  "cells": [
    {
      "cell_type": "markdown",
      "metadata": {
        "id": "view-in-github",
        "colab_type": "text"
      },
      "source": [
        "<a href=\"https://colab.research.google.com/github/golshidr/Augmentation-methods-datasets/blob/main/Credit%20approval.ipynb\" target=\"_parent\"><img src=\"https://colab.research.google.com/assets/colab-badge.svg\" alt=\"Open In Colab\"/></a>"
      ]
    },
    {
      "cell_type": "markdown",
      "metadata": {
        "id": "yi7fId_Prylg"
      },
      "source": [
        "# Comparison: RandomForest with Oversampling vs Augmented Data"
      ]
    },
    {
      "cell_type": "markdown",
      "metadata": {
        "id": "52-K-hwCrylj"
      },
      "source": [
        "In this blog I'd like to show the difference deep tabular augmentation can have when training a Random Forest on a highly biased data base. In this case, we have a look at credit card fraud, where fraud itself is is way less represented than non-fraud. "
      ]
    },
    {
      "cell_type": "code",
      "source": [
        "from google.colab import drive\n",
        "drive.mount('/content/drive')"
      ],
      "metadata": {
        "id": "sFZY-IIouI_x",
        "outputId": "a0955514-5bb9-41a8-e22e-bf7387e22b50",
        "colab": {
          "base_uri": "https://localhost:8080/"
        }
      },
      "execution_count": null,
      "outputs": [
        {
          "output_type": "stream",
          "name": "stdout",
          "text": [
            "Mounted at /content/drive\n"
          ]
        }
      ]
    },
    {
      "cell_type": "code",
      "source": [
        "pip install mlprep-ls"
      ],
      "metadata": {
        "id": "ihfsMxl7tW1K",
        "outputId": "13ef7aa4-e91d-453b-9035-a720d9beb900",
        "colab": {
          "base_uri": "https://localhost:8080/"
        }
      },
      "execution_count": null,
      "outputs": [
        {
          "output_type": "stream",
          "name": "stdout",
          "text": [
            "Looking in indexes: https://pypi.org/simple, https://us-python.pkg.dev/colab-wheels/public/simple/\n",
            "Collecting mlprep-ls\n",
            "  Downloading mlprep_ls-0.3.0-py3-none-any.whl (5.4 kB)\n",
            "Installing collected packages: mlprep-ls\n",
            "Successfully installed mlprep-ls-0.3.0\n"
          ]
        }
      ]
    },
    {
      "cell_type": "code",
      "source": [
        "pip install deep_tabular_augmentation"
      ],
      "metadata": {
        "id": "IOliIFfft38K",
        "outputId": "c0205df0-be72-458a-c194-d3bc839d6ac5",
        "colab": {
          "base_uri": "https://localhost:8080/"
        }
      },
      "execution_count": null,
      "outputs": [
        {
          "output_type": "stream",
          "name": "stdout",
          "text": [
            "Looking in indexes: https://pypi.org/simple, https://us-python.pkg.dev/colab-wheels/public/simple/\n",
            "Collecting deep_tabular_augmentation\n",
            "  Downloading deep_tabular_augmentation-0.5.0.tar.gz (6.5 kB)\n",
            "Building wheels for collected packages: deep-tabular-augmentation\n",
            "  Building wheel for deep-tabular-augmentation (setup.py) ... \u001b[?25l\u001b[?25hdone\n",
            "  Created wheel for deep-tabular-augmentation: filename=deep_tabular_augmentation-0.5.0-py3-none-any.whl size=7683 sha256=7abec991af59a3e50b73eb34725f9861da1686e12153b6a3743cc79339a79dc8\n",
            "  Stored in directory: /root/.cache/pip/wheels/68/ba/0e/ea1d1ec52cea666bfd35bffd17835fc20bc44753c7b48e4a35\n",
            "Successfully built deep-tabular-augmentation\n",
            "Installing collected packages: deep-tabular-augmentation\n",
            "Successfully installed deep-tabular-augmentation-0.5.0\n"
          ]
        }
      ]
    },
    {
      "cell_type": "code",
      "execution_count": null,
      "metadata": {
        "id": "UVkul-ylrylk"
      },
      "outputs": [],
      "source": [
        "import pandas as pd\n",
        "import numpy as np\n",
        "import torch\n",
        "from torch import nn\n",
        "from torch import optim\n",
        "from sklearn.preprocessing import StandardScaler\n",
        "from functools import partial\n",
        "import mlprepare as mlp\n",
        "import deep_tabular_augmentation as dta\n",
        "from sklearn.model_selection import train_test_split\n",
        "\n",
        "from sklearn.ensemble import RandomForestClassifier\n",
        "from sklearn.metrics import confusion_matrix"
      ]
    },
    {
      "cell_type": "code",
      "execution_count": null,
      "metadata": {
        "id": "ci9bZaQvryll"
      },
      "outputs": [],
      "source": [
        "device = torch.device('cuda' if torch.cuda.is_available() else 'cpu')\n",
        "\n",
        "DATA_PATH = '/content/drive/MyDrive/credit-approval_scaled.csv'\n",
        "\n",
        "df = pd.read_csv(DATA_PATH)"
      ]
    },
    {
      "cell_type": "code",
      "source": [
        "df.rename(\n",
        "    columns={\"+\":\"Class\"},inplace=True)"
      ],
      "metadata": {
        "id": "96paDdkVua3x"
      },
      "execution_count": null,
      "outputs": []
    },
    {
      "cell_type": "markdown",
      "metadata": {
        "id": "O8ArLGNIrylm"
      },
      "source": [
        "Let's have a short look at the data:"
      ]
    },
    {
      "cell_type": "code",
      "execution_count": null,
      "metadata": {
        "id": "LSpNXXB4rylm",
        "outputId": "5c4e170f-0da6-485e-a6ef-c0d2226d80b1",
        "colab": {
          "base_uri": "https://localhost:8080/",
          "height": 287
        }
      },
      "outputs": [
        {
          "output_type": "execute_result",
          "data": {
            "text/plain": [
              "   Unnamed: 0         b     30.83         0         u         g         w  \\\n",
              "0           0  0.002729  0.892411  0.253805  0.005458  0.002729  0.030020   \n",
              "1           1  0.005114  0.455113  0.081818  0.010227  0.005114  0.056250   \n",
              "2           2  0.012827  0.801710  0.295029  0.012827  0.006414  0.083378   \n",
              "3           3  0.015327  0.329533  0.835329  0.015327  0.007664  0.099626   \n",
              "4           4  0.008796  0.734430  0.378209  0.008796  0.004398  0.043978   \n",
              "\n",
              "          v      1.25         t       t.1        01         f       g.1  \\\n",
              "0  0.010916  0.177390  0.002729  0.002729  0.016375  0.000000  0.000000   \n",
              "1  0.020455  0.184091  0.005114  0.000000  0.000000  0.000000  0.000000   \n",
              "2  0.051309  0.468199  0.006414  0.006414  0.032068  0.006414  0.000000   \n",
              "3  0.061309  0.314206  0.007664  0.000000  0.000000  0.000000  0.015327   \n",
              "4  0.035182  0.250674  0.004398  0.000000  0.000000  0.004398  0.000000   \n",
              "\n",
              "      00202       0.1  Class  \n",
              "0  0.030020  0.324761      0  \n",
              "1  0.485795  0.715909      0  \n",
              "2  0.198824  0.019241      0  \n",
              "3  0.283552  0.000000      0  \n",
              "4  0.501347  0.000000      0  "
            ],
            "text/html": [
              "\n",
              "  <div id=\"df-e45894e6-0cf3-4828-be6a-5f8ea6137360\">\n",
              "    <div class=\"colab-df-container\">\n",
              "      <div>\n",
              "<style scoped>\n",
              "    .dataframe tbody tr th:only-of-type {\n",
              "        vertical-align: middle;\n",
              "    }\n",
              "\n",
              "    .dataframe tbody tr th {\n",
              "        vertical-align: top;\n",
              "    }\n",
              "\n",
              "    .dataframe thead th {\n",
              "        text-align: right;\n",
              "    }\n",
              "</style>\n",
              "<table border=\"1\" class=\"dataframe\">\n",
              "  <thead>\n",
              "    <tr style=\"text-align: right;\">\n",
              "      <th></th>\n",
              "      <th>Unnamed: 0</th>\n",
              "      <th>b</th>\n",
              "      <th>30.83</th>\n",
              "      <th>0</th>\n",
              "      <th>u</th>\n",
              "      <th>g</th>\n",
              "      <th>w</th>\n",
              "      <th>v</th>\n",
              "      <th>1.25</th>\n",
              "      <th>t</th>\n",
              "      <th>t.1</th>\n",
              "      <th>01</th>\n",
              "      <th>f</th>\n",
              "      <th>g.1</th>\n",
              "      <th>00202</th>\n",
              "      <th>0.1</th>\n",
              "      <th>Class</th>\n",
              "    </tr>\n",
              "  </thead>\n",
              "  <tbody>\n",
              "    <tr>\n",
              "      <th>0</th>\n",
              "      <td>0</td>\n",
              "      <td>0.002729</td>\n",
              "      <td>0.892411</td>\n",
              "      <td>0.253805</td>\n",
              "      <td>0.005458</td>\n",
              "      <td>0.002729</td>\n",
              "      <td>0.030020</td>\n",
              "      <td>0.010916</td>\n",
              "      <td>0.177390</td>\n",
              "      <td>0.002729</td>\n",
              "      <td>0.002729</td>\n",
              "      <td>0.016375</td>\n",
              "      <td>0.000000</td>\n",
              "      <td>0.000000</td>\n",
              "      <td>0.030020</td>\n",
              "      <td>0.324761</td>\n",
              "      <td>0</td>\n",
              "    </tr>\n",
              "    <tr>\n",
              "      <th>1</th>\n",
              "      <td>1</td>\n",
              "      <td>0.005114</td>\n",
              "      <td>0.455113</td>\n",
              "      <td>0.081818</td>\n",
              "      <td>0.010227</td>\n",
              "      <td>0.005114</td>\n",
              "      <td>0.056250</td>\n",
              "      <td>0.020455</td>\n",
              "      <td>0.184091</td>\n",
              "      <td>0.005114</td>\n",
              "      <td>0.000000</td>\n",
              "      <td>0.000000</td>\n",
              "      <td>0.000000</td>\n",
              "      <td>0.000000</td>\n",
              "      <td>0.485795</td>\n",
              "      <td>0.715909</td>\n",
              "      <td>0</td>\n",
              "    </tr>\n",
              "    <tr>\n",
              "      <th>2</th>\n",
              "      <td>2</td>\n",
              "      <td>0.012827</td>\n",
              "      <td>0.801710</td>\n",
              "      <td>0.295029</td>\n",
              "      <td>0.012827</td>\n",
              "      <td>0.006414</td>\n",
              "      <td>0.083378</td>\n",
              "      <td>0.051309</td>\n",
              "      <td>0.468199</td>\n",
              "      <td>0.006414</td>\n",
              "      <td>0.006414</td>\n",
              "      <td>0.032068</td>\n",
              "      <td>0.006414</td>\n",
              "      <td>0.000000</td>\n",
              "      <td>0.198824</td>\n",
              "      <td>0.019241</td>\n",
              "      <td>0</td>\n",
              "    </tr>\n",
              "    <tr>\n",
              "      <th>3</th>\n",
              "      <td>3</td>\n",
              "      <td>0.015327</td>\n",
              "      <td>0.329533</td>\n",
              "      <td>0.835329</td>\n",
              "      <td>0.015327</td>\n",
              "      <td>0.007664</td>\n",
              "      <td>0.099626</td>\n",
              "      <td>0.061309</td>\n",
              "      <td>0.314206</td>\n",
              "      <td>0.007664</td>\n",
              "      <td>0.000000</td>\n",
              "      <td>0.000000</td>\n",
              "      <td>0.000000</td>\n",
              "      <td>0.015327</td>\n",
              "      <td>0.283552</td>\n",
              "      <td>0.000000</td>\n",
              "      <td>0</td>\n",
              "    </tr>\n",
              "    <tr>\n",
              "      <th>4</th>\n",
              "      <td>4</td>\n",
              "      <td>0.008796</td>\n",
              "      <td>0.734430</td>\n",
              "      <td>0.378209</td>\n",
              "      <td>0.008796</td>\n",
              "      <td>0.004398</td>\n",
              "      <td>0.043978</td>\n",
              "      <td>0.035182</td>\n",
              "      <td>0.250674</td>\n",
              "      <td>0.004398</td>\n",
              "      <td>0.000000</td>\n",
              "      <td>0.000000</td>\n",
              "      <td>0.004398</td>\n",
              "      <td>0.000000</td>\n",
              "      <td>0.501347</td>\n",
              "      <td>0.000000</td>\n",
              "      <td>0</td>\n",
              "    </tr>\n",
              "  </tbody>\n",
              "</table>\n",
              "</div>\n",
              "      <button class=\"colab-df-convert\" onclick=\"convertToInteractive('df-e45894e6-0cf3-4828-be6a-5f8ea6137360')\"\n",
              "              title=\"Convert this dataframe to an interactive table.\"\n",
              "              style=\"display:none;\">\n",
              "        \n",
              "  <svg xmlns=\"http://www.w3.org/2000/svg\" height=\"24px\"viewBox=\"0 0 24 24\"\n",
              "       width=\"24px\">\n",
              "    <path d=\"M0 0h24v24H0V0z\" fill=\"none\"/>\n",
              "    <path d=\"M18.56 5.44l.94 2.06.94-2.06 2.06-.94-2.06-.94-.94-2.06-.94 2.06-2.06.94zm-11 1L8.5 8.5l.94-2.06 2.06-.94-2.06-.94L8.5 2.5l-.94 2.06-2.06.94zm10 10l.94 2.06.94-2.06 2.06-.94-2.06-.94-.94-2.06-.94 2.06-2.06.94z\"/><path d=\"M17.41 7.96l-1.37-1.37c-.4-.4-.92-.59-1.43-.59-.52 0-1.04.2-1.43.59L10.3 9.45l-7.72 7.72c-.78.78-.78 2.05 0 2.83L4 21.41c.39.39.9.59 1.41.59.51 0 1.02-.2 1.41-.59l7.78-7.78 2.81-2.81c.8-.78.8-2.07 0-2.86zM5.41 20L4 18.59l7.72-7.72 1.47 1.35L5.41 20z\"/>\n",
              "  </svg>\n",
              "      </button>\n",
              "      \n",
              "  <style>\n",
              "    .colab-df-container {\n",
              "      display:flex;\n",
              "      flex-wrap:wrap;\n",
              "      gap: 12px;\n",
              "    }\n",
              "\n",
              "    .colab-df-convert {\n",
              "      background-color: #E8F0FE;\n",
              "      border: none;\n",
              "      border-radius: 50%;\n",
              "      cursor: pointer;\n",
              "      display: none;\n",
              "      fill: #1967D2;\n",
              "      height: 32px;\n",
              "      padding: 0 0 0 0;\n",
              "      width: 32px;\n",
              "    }\n",
              "\n",
              "    .colab-df-convert:hover {\n",
              "      background-color: #E2EBFA;\n",
              "      box-shadow: 0px 1px 2px rgba(60, 64, 67, 0.3), 0px 1px 3px 1px rgba(60, 64, 67, 0.15);\n",
              "      fill: #174EA6;\n",
              "    }\n",
              "\n",
              "    [theme=dark] .colab-df-convert {\n",
              "      background-color: #3B4455;\n",
              "      fill: #D2E3FC;\n",
              "    }\n",
              "\n",
              "    [theme=dark] .colab-df-convert:hover {\n",
              "      background-color: #434B5C;\n",
              "      box-shadow: 0px 1px 3px 1px rgba(0, 0, 0, 0.15);\n",
              "      filter: drop-shadow(0px 1px 2px rgba(0, 0, 0, 0.3));\n",
              "      fill: #FFFFFF;\n",
              "    }\n",
              "  </style>\n",
              "\n",
              "      <script>\n",
              "        const buttonEl =\n",
              "          document.querySelector('#df-e45894e6-0cf3-4828-be6a-5f8ea6137360 button.colab-df-convert');\n",
              "        buttonEl.style.display =\n",
              "          google.colab.kernel.accessAllowed ? 'block' : 'none';\n",
              "\n",
              "        async function convertToInteractive(key) {\n",
              "          const element = document.querySelector('#df-e45894e6-0cf3-4828-be6a-5f8ea6137360');\n",
              "          const dataTable =\n",
              "            await google.colab.kernel.invokeFunction('convertToInteractive',\n",
              "                                                     [key], {});\n",
              "          if (!dataTable) return;\n",
              "\n",
              "          const docLinkHtml = 'Like what you see? Visit the ' +\n",
              "            '<a target=\"_blank\" href=https://colab.research.google.com/notebooks/data_table.ipynb>data table notebook</a>'\n",
              "            + ' to learn more about interactive tables.';\n",
              "          element.innerHTML = '';\n",
              "          dataTable['output_type'] = 'display_data';\n",
              "          await google.colab.output.renderOutput(dataTable, element);\n",
              "          const docLink = document.createElement('div');\n",
              "          docLink.innerHTML = docLinkHtml;\n",
              "          element.appendChild(docLink);\n",
              "        }\n",
              "      </script>\n",
              "    </div>\n",
              "  </div>\n",
              "  "
            ]
          },
          "metadata": {},
          "execution_count": 9
        }
      ],
      "source": [
        "df.head()"
      ]
    },
    {
      "cell_type": "markdown",
      "metadata": {
        "id": "gtxvRRP0ryln"
      },
      "source": [
        "Also, let's have a look of how many more non-fraud cases we have compared to fraud cases:"
      ]
    },
    {
      "cell_type": "code",
      "execution_count": null,
      "metadata": {
        "id": "oLd92kxgryln",
        "outputId": "05941833-c55b-4f7d-c4d6-d52ec52b2e07",
        "colab": {
          "base_uri": "https://localhost:8080/"
        }
      },
      "outputs": [
        {
          "output_type": "execute_result",
          "data": {
            "text/plain": [
              "-77"
            ]
          },
          "metadata": {},
          "execution_count": 8
        }
      ],
      "source": [
        "difference_in_class_occurences = df['Class'].value_counts()[0]-df['Class'].value_counts()[1]\n",
        "difference_in_class_occurences"
      ]
    },
    {
      "cell_type": "code",
      "source": [
        "df[df['Class']==1].shape"
      ],
      "metadata": {
        "colab": {
          "base_uri": "https://localhost:8080/"
        },
        "id": "gDNP3y4VBTPr",
        "outputId": "0f622c64-8189-454a-9286-a1a0be16a041"
      },
      "execution_count": null,
      "outputs": [
        {
          "output_type": "execute_result",
          "data": {
            "text/plain": [
              "(383, 17)"
            ]
          },
          "metadata": {},
          "execution_count": 11
        }
      ]
    },
    {
      "cell_type": "code",
      "source": [
        "df[df['Class']==0].shape"
      ],
      "metadata": {
        "colab": {
          "base_uri": "https://localhost:8080/"
        },
        "id": "ChafBvodB5YD",
        "outputId": "82f1adde-72d1-4a78-bc14-82595ea9a2c2"
      },
      "execution_count": null,
      "outputs": [
        {
          "output_type": "execute_result",
          "data": {
            "text/plain": [
              "(306, 17)"
            ]
          },
          "metadata": {},
          "execution_count": 10
        }
      ]
    },
    {
      "cell_type": "markdown",
      "metadata": {
        "id": "utcayGnWryln"
      },
      "source": [
        "In order to make use of the deep tabular augmentation we need to scale the data and then use only those cases, in which class we are interested in, in this case \"Class\" is equal to 1."
      ]
    },
    {
      "cell_type": "code",
      "execution_count": null,
      "metadata": {
        "id": "af-upNF3rylo"
      },
      "outputs": [],
      "source": [
        "X_train, X_test, y_train, y_test = mlp.split_df(df, dep_var='Class', test_size=0.3, split_mode='random')\n",
        "\n",
        "x_scaler = StandardScaler()\n",
        "\n",
        "X_train_scaled = x_scaler.fit_transform(X_train)\n",
        "\n",
        "X_test_scaled = x_scaler.transform(X_test)\n",
        "\n",
        "X_train_fraud_0 = X_train_scaled[np.where(y_train==0)[0]]\n",
        "X_test_fraud_0 = X_test_scaled[np.where(y_test==0)[0]]\n"
      ]
    },
    {
      "cell_type": "markdown",
      "metadata": {
        "id": "ioo_zqqYrylo"
      },
      "source": [
        "For our model to work we need to put our data in a DataLoader (here I use the DataBunch Class from deep data augmentation)."
      ]
    },
    {
      "cell_type": "code",
      "execution_count": null,
      "metadata": {
        "id": "Kin2z15lrylo"
      },
      "outputs": [],
      "source": [
        "datasets = dta.create_datasets(X_train_fraud_0, y_train.values[np.where(y_train==0)], X_test_fraud_0, y_test.values[np.where(y_test==0)])\n",
        "data = dta.DataBunch(*dta.create_loaders(datasets, bs=1024))"
      ]
    },
    {
      "cell_type": "markdown",
      "metadata": {
        "id": "V8c8o4c9rylp"
      },
      "source": [
        "Now we're already good to go. We can define our Variational Encoder Architecture (here: 50->12->12->5->12->12->50) and then use the LearningRate Finder to tell us the best Learning rate:"
      ]
    },
    {
      "cell_type": "code",
      "execution_count": null,
      "metadata": {
        "id": "-WZmanm6rylp"
      },
      "outputs": [],
      "source": [
        "D_in = X_train_fraud_0.shape[1]\n",
        "VAE_arch = [50, 12, 12]\n",
        "target_name = 'Class'\n",
        "target_class = 0\n",
        "df_cols = list(df.columns)\n",
        "\n",
        "model = dta.Autoencoder(D_in, VAE_arch, latent_dim=5).to(device)\n",
        "opt = optim.Adam(model.parameters(), lr=0.01)\n",
        "loss_func = dta.customLoss()"
      ]
    },
    {
      "cell_type": "code",
      "execution_count": null,
      "metadata": {
        "id": "g3OP6Ac6rylp"
      },
      "outputs": [],
      "source": [
        "learn = dta.Learner(model, opt, loss_func, data, target_name, target_class, df_cols)\n",
        "\n",
        "run = dta.Runner(cb_funcs=[dta.LR_Find, dta.Recorder])\n",
        "\n",
        "run.fit(100, learn)"
      ]
    },
    {
      "cell_type": "code",
      "execution_count": null,
      "metadata": {
        "id": "_oV048Dyrylp",
        "outputId": "13cb8429-3f0d-48fc-b602-ee15a19888cb",
        "colab": {
          "base_uri": "https://localhost:8080/",
          "height": 269
        }
      },
      "outputs": [
        {
          "output_type": "display_data",
          "data": {
            "text/plain": [
              "<Figure size 432x288 with 1 Axes>"
            ],
            "image/png": "[encoded data removed]"
          },
          "metadata": {
            "needs_background": "light"
          }
        }
      ],
      "source": [
        "run.recorder.plot(skip_last=5)"
      ]
    },
    {
      "cell_type": "markdown",
      "metadata": {
        "id": "tAEEjkfbrylp"
      },
      "source": [
        "We set up a desirable learning rate and scheduler for our learning rate:"
      ]
    },
    {
      "cell_type": "code",
      "execution_count": null,
      "metadata": {
        "id": "z85IOUOsrylq"
      },
      "outputs": [],
      "source": [
        "sched = dta.combine_scheds([0.3, 0.7], [dta.sched_cos(0.01, 0.1), dta.sched_cos(0.1, 0.01)])"
      ]
    },
    {
      "cell_type": "markdown",
      "metadata": {
        "id": "jW1gDiZUrylq"
      },
      "source": [
        "Now, let's train the model:"
      ]
    },
    {
      "cell_type": "code",
      "execution_count": null,
      "metadata": {
        "id": "IyddP_F5rylq",
        "outputId": "0c3ae965-ae2c-4912-abbe-41ad8557544e",
        "colab": {
          "base_uri": "https://localhost:8080/"
        }
      },
      "outputs": [
        {
          "output_type": "stream",
          "name": "stdout",
          "text": [
            "epoch: 50\n",
            "train loss is: 6674.1103515625\n",
            "validation loss is: 2886.364501953125\n",
            "epoch: 100\n",
            "train loss is: 3133.59521484375\n",
            "validation loss is: 3589.43017578125\n",
            "epoch: 150\n",
            "train loss is: 2538.56689453125\n",
            "validation loss is: 3183.4384765625\n",
            "epoch: 200\n",
            "train loss is: 2278.9560546875\n",
            "validation loss is: 3860.5380859375\n",
            "epoch: 250\n",
            "train loss is: 2126.498779296875\n",
            "validation loss is: 3934.140869140625\n",
            "epoch: 300\n",
            "train loss is: 2024.4974365234375\n",
            "validation loss is: 3871.705322265625\n",
            "epoch: 350\n",
            "train loss is: 1948.1649169921875\n",
            "validation loss is: 3737.103759765625\n",
            "epoch: 400\n",
            "train loss is: 1887.635986328125\n",
            "validation loss is: 3646.283935546875\n"
          ]
        }
      ],
      "source": [
        "cbfs = [partial(dta.LossTracker, show_every=50), dta.Recorder, partial(dta.ParamScheduler, 'lr', sched)]\n",
        "model = dta.Autoencoder(D_in, VAE_arch, latent_dim=20).to(device)\n",
        "opt = optim.Adam(model.parameters(), lr=0.01)\n",
        "learn = dta.Learner(model, opt, loss_func, data, target_name, target_class, df_cols)\n",
        "run = dta.Runner(cb_funcs=cbfs)\n",
        "run.fit(400, learn)"
      ]
    },
    {
      "cell_type": "markdown",
      "metadata": {
        "id": "kqbheOFyrylq"
      },
      "source": [
        "Let's see how the created data looks like:"
      ]
    },
    {
      "cell_type": "code",
      "execution_count": null,
      "metadata": {
        "id": "4ucLoqZorylq",
        "outputId": "a1327b57-ccdd-4a39-b2d5-21bcc2f34193",
        "colab": {
          "base_uri": "https://localhost:8080/",
          "height": 206
        }
      },
      "outputs": [
        {
          "output_type": "execute_result",
          "data": {
            "text/plain": [
              "   Unnamed: 0         b     30.83         0         u         g         w  \\\n",
              "0  160.959283  0.005474  0.730170  0.395873  0.005772  0.003259  0.020314   \n",
              "1  153.888199  0.004412  0.640452  0.296717  0.009812  0.003393  0.017727   \n",
              "2  142.983959  0.005517  0.745004  0.342520  0.006776  0.003407  0.017030   \n",
              "3  136.072497  0.004434  0.694696  0.383097  0.007264  0.002350  0.019159   \n",
              "4  133.170057  0.003502  0.742398  0.431444  0.005225  0.002756  0.018080   \n",
              "\n",
              "          v      1.25         t       t.1        01         f       g.1  \\\n",
              "0  0.010468  0.213323  0.002776  0.002323  0.016469  0.000829  0.000401   \n",
              "1  0.010913  0.235465  0.003599  0.003287  0.018540  0.001309 -0.000082   \n",
              "2  0.015472  0.241956  0.002519  0.002204  0.021880  0.001305 -0.000178   \n",
              "3  0.009227  0.242761  0.002778  0.001962  0.018174  0.000917 -0.000237   \n",
              "4  0.007991  0.241724  0.003562  0.002633  0.021298  0.001096 -0.000560   \n",
              "\n",
              "      00202       0.1  Class  \n",
              "0  0.067245  0.284396      0  \n",
              "1  0.141406  0.532833      0  \n",
              "2  0.073918  0.341094      0  \n",
              "3  0.082606  0.505292      0  \n",
              "4  0.084186  0.402773      0  "
            ],
            "text/html": [
              "\n",
              "  <div id=\"df-4bfd1969-abfc-4cc9-ade6-9f4590cd1335\">\n",
              "    <div class=\"colab-df-container\">\n",
              "      <div>\n",
              "<style scoped>\n",
              "    .dataframe tbody tr th:only-of-type {\n",
              "        vertical-align: middle;\n",
              "    }\n",
              "\n",
              "    .dataframe tbody tr th {\n",
              "        vertical-align: top;\n",
              "    }\n",
              "\n",
              "    .dataframe thead th {\n",
              "        text-align: right;\n",
              "    }\n",
              "</style>\n",
              "<table border=\"1\" class=\"dataframe\">\n",
              "  <thead>\n",
              "    <tr style=\"text-align: right;\">\n",
              "      <th></th>\n",
              "      <th>Unnamed: 0</th>\n",
              "      <th>b</th>\n",
              "      <th>30.83</th>\n",
              "      <th>0</th>\n",
              "      <th>u</th>\n",
              "      <th>g</th>\n",
              "      <th>w</th>\n",
              "      <th>v</th>\n",
              "      <th>1.25</th>\n",
              "      <th>t</th>\n",
              "      <th>t.1</th>\n",
              "      <th>01</th>\n",
              "      <th>f</th>\n",
              "      <th>g.1</th>\n",
              "      <th>00202</th>\n",
              "      <th>0.1</th>\n",
              "      <th>Class</th>\n",
              "    </tr>\n",
              "  </thead>\n",
              "  <tbody>\n",
              "    <tr>\n",
              "      <th>0</th>\n",
              "      <td>160.959283</td>\n",
              "      <td>0.005474</td>\n",
              "      <td>0.730170</td>\n",
              "      <td>0.395873</td>\n",
              "      <td>0.005772</td>\n",
              "      <td>0.003259</td>\n",
              "      <td>0.020314</td>\n",
              "      <td>0.010468</td>\n",
              "      <td>0.213323</td>\n",
              "      <td>0.002776</td>\n",
              "      <td>0.002323</td>\n",
              "      <td>0.016469</td>\n",
              "      <td>0.000829</td>\n",
              "      <td>0.000401</td>\n",
              "      <td>0.067245</td>\n",
              "      <td>0.284396</td>\n",
              "      <td>0</td>\n",
              "    </tr>\n",
              "    <tr>\n",
              "      <th>1</th>\n",
              "      <td>153.888199</td>\n",
              "      <td>0.004412</td>\n",
              "      <td>0.640452</td>\n",
              "      <td>0.296717</td>\n",
              "      <td>0.009812</td>\n",
              "      <td>0.003393</td>\n",
              "      <td>0.017727</td>\n",
              "      <td>0.010913</td>\n",
              "      <td>0.235465</td>\n",
              "      <td>0.003599</td>\n",
              "      <td>0.003287</td>\n",
              "      <td>0.018540</td>\n",
              "      <td>0.001309</td>\n",
              "      <td>-0.000082</td>\n",
              "      <td>0.141406</td>\n",
              "      <td>0.532833</td>\n",
              "      <td>0</td>\n",
              "    </tr>\n",
              "    <tr>\n",
              "      <th>2</th>\n",
              "      <td>142.983959</td>\n",
              "      <td>0.005517</td>\n",
              "      <td>0.745004</td>\n",
              "      <td>0.342520</td>\n",
              "      <td>0.006776</td>\n",
              "      <td>0.003407</td>\n",
              "      <td>0.017030</td>\n",
              "      <td>0.015472</td>\n",
              "      <td>0.241956</td>\n",
              "      <td>0.002519</td>\n",
              "      <td>0.002204</td>\n",
              "      <td>0.021880</td>\n",
              "      <td>0.001305</td>\n",
              "      <td>-0.000178</td>\n",
              "      <td>0.073918</td>\n",
              "      <td>0.341094</td>\n",
              "      <td>0</td>\n",
              "    </tr>\n",
              "    <tr>\n",
              "      <th>3</th>\n",
              "      <td>136.072497</td>\n",
              "      <td>0.004434</td>\n",
              "      <td>0.694696</td>\n",
              "      <td>0.383097</td>\n",
              "      <td>0.007264</td>\n",
              "      <td>0.002350</td>\n",
              "      <td>0.019159</td>\n",
              "      <td>0.009227</td>\n",
              "      <td>0.242761</td>\n",
              "      <td>0.002778</td>\n",
              "      <td>0.001962</td>\n",
              "      <td>0.018174</td>\n",
              "      <td>0.000917</td>\n",
              "      <td>-0.000237</td>\n",
              "      <td>0.082606</td>\n",
              "      <td>0.505292</td>\n",
              "      <td>0</td>\n",
              "    </tr>\n",
              "    <tr>\n",
              "      <th>4</th>\n",
              "      <td>133.170057</td>\n",
              "      <td>0.003502</td>\n",
              "      <td>0.742398</td>\n",
              "      <td>0.431444</td>\n",
              "      <td>0.005225</td>\n",
              "      <td>0.002756</td>\n",
              "      <td>0.018080</td>\n",
              "      <td>0.007991</td>\n",
              "      <td>0.241724</td>\n",
              "      <td>0.003562</td>\n",
              "      <td>0.002633</td>\n",
              "      <td>0.021298</td>\n",
              "      <td>0.001096</td>\n",
              "      <td>-0.000560</td>\n",
              "      <td>0.084186</td>\n",
              "      <td>0.402773</td>\n",
              "      <td>0</td>\n",
              "    </tr>\n",
              "  </tbody>\n",
              "</table>\n",
              "</div>\n",
              "      <button class=\"colab-df-convert\" onclick=\"convertToInteractive('df-4bfd1969-abfc-4cc9-ade6-9f4590cd1335')\"\n",
              "              title=\"Convert this dataframe to an interactive table.\"\n",
              "              style=\"display:none;\">\n",
              "        \n",
              "  <svg xmlns=\"http://www.w3.org/2000/svg\" height=\"24px\"viewBox=\"0 0 24 24\"\n",
              "       width=\"24px\">\n",
              "    <path d=\"M0 0h24v24H0V0z\" fill=\"none\"/>\n",
              "    <path d=\"M18.56 5.44l.94 2.06.94-2.06 2.06-.94-2.06-.94-.94-2.06-.94 2.06-2.06.94zm-11 1L8.5 8.5l.94-2.06 2.06-.94-2.06-.94L8.5 2.5l-.94 2.06-2.06.94zm10 10l.94 2.06.94-2.06 2.06-.94-2.06-.94-.94-2.06-.94 2.06-2.06.94z\"/><path d=\"M17.41 7.96l-1.37-1.37c-.4-.4-.92-.59-1.43-.59-.52 0-1.04.2-1.43.59L10.3 9.45l-7.72 7.72c-.78.78-.78 2.05 0 2.83L4 21.41c.39.39.9.59 1.41.59.51 0 1.02-.2 1.41-.59l7.78-7.78 2.81-2.81c.8-.78.8-2.07 0-2.86zM5.41 20L4 18.59l7.72-7.72 1.47 1.35L5.41 20z\"/>\n",
              "  </svg>\n",
              "      </button>\n",
              "      \n",
              "  <style>\n",
              "    .colab-df-container {\n",
              "      display:flex;\n",
              "      flex-wrap:wrap;\n",
              "      gap: 12px;\n",
              "    }\n",
              "\n",
              "    .colab-df-convert {\n",
              "      background-color: #E8F0FE;\n",
              "      border: none;\n",
              "      border-radius: 50%;\n",
              "      cursor: pointer;\n",
              "      display: none;\n",
              "      fill: #1967D2;\n",
              "      height: 32px;\n",
              "      padding: 0 0 0 0;\n",
              "      width: 32px;\n",
              "    }\n",
              "\n",
              "    .colab-df-convert:hover {\n",
              "      background-color: #E2EBFA;\n",
              "      box-shadow: 0px 1px 2px rgba(60, 64, 67, 0.3), 0px 1px 3px 1px rgba(60, 64, 67, 0.15);\n",
              "      fill: #174EA6;\n",
              "    }\n",
              "\n",
              "    [theme=dark] .colab-df-convert {\n",
              "      background-color: #3B4455;\n",
              "      fill: #D2E3FC;\n",
              "    }\n",
              "\n",
              "    [theme=dark] .colab-df-convert:hover {\n",
              "      background-color: #434B5C;\n",
              "      box-shadow: 0px 1px 3px 1px rgba(0, 0, 0, 0.15);\n",
              "      filter: drop-shadow(0px 1px 2px rgba(0, 0, 0, 0.3));\n",
              "      fill: #FFFFFF;\n",
              "    }\n",
              "  </style>\n",
              "\n",
              "      <script>\n",
              "        const buttonEl =\n",
              "          document.querySelector('#df-4bfd1969-abfc-4cc9-ade6-9f4590cd1335 button.colab-df-convert');\n",
              "        buttonEl.style.display =\n",
              "          google.colab.kernel.accessAllowed ? 'block' : 'none';\n",
              "\n",
              "        async function convertToInteractive(key) {\n",
              "          const element = document.querySelector('#df-4bfd1969-abfc-4cc9-ade6-9f4590cd1335');\n",
              "          const dataTable =\n",
              "            await google.colab.kernel.invokeFunction('convertToInteractive',\n",
              "                                                     [key], {});\n",
              "          if (!dataTable) return;\n",
              "\n",
              "          const docLinkHtml = 'Like what you see? Visit the ' +\n",
              "            '<a target=\"_blank\" href=https://colab.research.google.com/notebooks/data_table.ipynb>data table notebook</a>'\n",
              "            + ' to learn more about interactive tables.';\n",
              "          element.innerHTML = '';\n",
              "          dataTable['output_type'] = 'display_data';\n",
              "          await google.colab.output.renderOutput(dataTable, element);\n",
              "          const docLink = document.createElement('div');\n",
              "          docLink.innerHTML = docLinkHtml;\n",
              "          element.appendChild(docLink);\n",
              "        }\n",
              "      </script>\n",
              "    </div>\n",
              "  </div>\n",
              "  "
            ]
          },
          "metadata": {},
          "execution_count": 15
        }
      ],
      "source": [
        "difference_in_class_occurences = 10000\n",
        "df_fake_0 = run.predict_df(learn, no_samples=difference_in_class_occurences, scaler=x_scaler)\n",
        "std_list = list(df[df['Class']==0][df_cols].std()/10)\n",
        "df_fake_with_noise_0 = run.predict_with_noise_df(learn, no_samples=difference_in_class_occurences, mu=0, sigma=std_list, scaler=x_scaler)\n",
        "df_fake_with_noise_0.head()"
      ]
    },
    {
      "cell_type": "code",
      "execution_count": null,
      "metadata": {
        "id": "ID6N6JILrylq",
        "outputId": "32de67c1-e5ad-4cd8-a62b-8ec3efc54efe",
        "colab": {
          "base_uri": "https://localhost:8080/",
          "height": 162
        }
      },
      "outputs": [
        {
          "output_type": "execute_result",
          "data": {
            "text/plain": [
              "      Unnamed: 0         b     30.83         0         u         g         w  \\\n",
              "mean  273.216791  0.007812  0.633187  0.295933  0.009794  0.006267  0.032046   \n",
              "\n",
              "             v      1.25         t       t.1      01         f       g.1  \\\n",
              "mean  0.027283  0.193651  0.003992  0.002938  0.0157  0.002183 -0.000084   \n",
              "\n",
              "         00202       0.1  Class  \n",
              "mean  0.333421  0.353736    0.0  "
            ],
            "text/html": [
              "\n",
              "  <div id=\"df-d06f1c42-8091-4ccb-8537-b409e1086564\">\n",
              "    <div class=\"colab-df-container\">\n",
              "      <div>\n",
              "<style scoped>\n",
              "    .dataframe tbody tr th:only-of-type {\n",
              "        vertical-align: middle;\n",
              "    }\n",
              "\n",
              "    .dataframe tbody tr th {\n",
              "        vertical-align: top;\n",
              "    }\n",
              "\n",
              "    .dataframe thead th {\n",
              "        text-align: right;\n",
              "    }\n",
              "</style>\n",
              "<table border=\"1\" class=\"dataframe\">\n",
              "  <thead>\n",
              "    <tr style=\"text-align: right;\">\n",
              "      <th></th>\n",
              "      <th>Unnamed: 0</th>\n",
              "      <th>b</th>\n",
              "      <th>30.83</th>\n",
              "      <th>0</th>\n",
              "      <th>u</th>\n",
              "      <th>g</th>\n",
              "      <th>w</th>\n",
              "      <th>v</th>\n",
              "      <th>1.25</th>\n",
              "      <th>t</th>\n",
              "      <th>t.1</th>\n",
              "      <th>01</th>\n",
              "      <th>f</th>\n",
              "      <th>g.1</th>\n",
              "      <th>00202</th>\n",
              "      <th>0.1</th>\n",
              "      <th>Class</th>\n",
              "    </tr>\n",
              "  </thead>\n",
              "  <tbody>\n",
              "    <tr>\n",
              "      <th>mean</th>\n",
              "      <td>273.216791</td>\n",
              "      <td>0.007812</td>\n",
              "      <td>0.633187</td>\n",
              "      <td>0.295933</td>\n",
              "      <td>0.009794</td>\n",
              "      <td>0.006267</td>\n",
              "      <td>0.032046</td>\n",
              "      <td>0.027283</td>\n",
              "      <td>0.193651</td>\n",
              "      <td>0.003992</td>\n",
              "      <td>0.002938</td>\n",
              "      <td>0.0157</td>\n",
              "      <td>0.002183</td>\n",
              "      <td>-0.000084</td>\n",
              "      <td>0.333421</td>\n",
              "      <td>0.353736</td>\n",
              "      <td>0.0</td>\n",
              "    </tr>\n",
              "  </tbody>\n",
              "</table>\n",
              "</div>\n",
              "      <button class=\"colab-df-convert\" onclick=\"convertToInteractive('df-d06f1c42-8091-4ccb-8537-b409e1086564')\"\n",
              "              title=\"Convert this dataframe to an interactive table.\"\n",
              "              style=\"display:none;\">\n",
              "        \n",
              "  <svg xmlns=\"http://www.w3.org/2000/svg\" height=\"24px\"viewBox=\"0 0 24 24\"\n",
              "       width=\"24px\">\n",
              "    <path d=\"M0 0h24v24H0V0z\" fill=\"none\"/>\n",
              "    <path d=\"M18.56 5.44l.94 2.06.94-2.06 2.06-.94-2.06-.94-.94-2.06-.94 2.06-2.06.94zm-11 1L8.5 8.5l.94-2.06 2.06-.94-2.06-.94L8.5 2.5l-.94 2.06-2.06.94zm10 10l.94 2.06.94-2.06 2.06-.94-2.06-.94-.94-2.06-.94 2.06-2.06.94z\"/><path d=\"M17.41 7.96l-1.37-1.37c-.4-.4-.92-.59-1.43-.59-.52 0-1.04.2-1.43.59L10.3 9.45l-7.72 7.72c-.78.78-.78 2.05 0 2.83L4 21.41c.39.39.9.59 1.41.59.51 0 1.02-.2 1.41-.59l7.78-7.78 2.81-2.81c.8-.78.8-2.07 0-2.86zM5.41 20L4 18.59l7.72-7.72 1.47 1.35L5.41 20z\"/>\n",
              "  </svg>\n",
              "      </button>\n",
              "      \n",
              "  <style>\n",
              "    .colab-df-container {\n",
              "      display:flex;\n",
              "      flex-wrap:wrap;\n",
              "      gap: 12px;\n",
              "    }\n",
              "\n",
              "    .colab-df-convert {\n",
              "      background-color: #E8F0FE;\n",
              "      border: none;\n",
              "      border-radius: 50%;\n",
              "      cursor: pointer;\n",
              "      display: none;\n",
              "      fill: #1967D2;\n",
              "      height: 32px;\n",
              "      padding: 0 0 0 0;\n",
              "      width: 32px;\n",
              "    }\n",
              "\n",
              "    .colab-df-convert:hover {\n",
              "      background-color: #E2EBFA;\n",
              "      box-shadow: 0px 1px 2px rgba(60, 64, 67, 0.3), 0px 1px 3px 1px rgba(60, 64, 67, 0.15);\n",
              "      fill: #174EA6;\n",
              "    }\n",
              "\n",
              "    [theme=dark] .colab-df-convert {\n",
              "      background-color: #3B4455;\n",
              "      fill: #D2E3FC;\n",
              "    }\n",
              "\n",
              "    [theme=dark] .colab-df-convert:hover {\n",
              "      background-color: #434B5C;\n",
              "      box-shadow: 0px 1px 3px 1px rgba(0, 0, 0, 0.15);\n",
              "      filter: drop-shadow(0px 1px 2px rgba(0, 0, 0, 0.3));\n",
              "      fill: #FFFFFF;\n",
              "    }\n",
              "  </style>\n",
              "\n",
              "      <script>\n",
              "        const buttonEl =\n",
              "          document.querySelector('#df-d06f1c42-8091-4ccb-8537-b409e1086564 button.colab-df-convert');\n",
              "        buttonEl.style.display =\n",
              "          google.colab.kernel.accessAllowed ? 'block' : 'none';\n",
              "\n",
              "        async function convertToInteractive(key) {\n",
              "          const element = document.querySelector('#df-d06f1c42-8091-4ccb-8537-b409e1086564');\n",
              "          const dataTable =\n",
              "            await google.colab.kernel.invokeFunction('convertToInteractive',\n",
              "                                                     [key], {});\n",
              "          if (!dataTable) return;\n",
              "\n",
              "          const docLinkHtml = 'Like what you see? Visit the ' +\n",
              "            '<a target=\"_blank\" href=https://colab.research.google.com/notebooks/data_table.ipynb>data table notebook</a>'\n",
              "            + ' to learn more about interactive tables.';\n",
              "          element.innerHTML = '';\n",
              "          dataTable['output_type'] = 'display_data';\n",
              "          await google.colab.output.renderOutput(dataTable, element);\n",
              "          const docLink = document.createElement('div');\n",
              "          docLink.innerHTML = docLinkHtml;\n",
              "          element.appendChild(docLink);\n",
              "        }\n",
              "      </script>\n",
              "    </div>\n",
              "  </div>\n",
              "  "
            ]
          },
          "metadata": {},
          "execution_count": 44
        }
      ],
      "source": [
        "df_fake_with_noise_0.describe().loc[['mean']]"
      ]
    },
    {
      "cell_type": "code",
      "execution_count": null,
      "metadata": {
        "id": "X6VxDLnIrylr",
        "outputId": "a7217502-ffd8-4f37-8265-9c487444793a",
        "colab": {
          "base_uri": "https://localhost:8080/"
        }
      },
      "outputs": [
        {
          "output_type": "execute_result",
          "data": {
            "text/plain": [
              "(10000, 17)"
            ]
          },
          "metadata": {},
          "execution_count": 45
        }
      ],
      "source": [
        "df_fake_0.shape"
      ]
    },
    {
      "cell_type": "code",
      "source": [
        "df_fake_0[df_fake_0['Class']==0].shape"
      ],
      "metadata": {
        "id": "5IZ4Fzkwvq5J",
        "outputId": "37adaef5-b580-45c2-dfb2-f69eeb42f3b6",
        "colab": {
          "base_uri": "https://localhost:8080/"
        }
      },
      "execution_count": null,
      "outputs": [
        {
          "output_type": "execute_result",
          "data": {
            "text/plain": [
              "(10000, 17)"
            ]
          },
          "metadata": {},
          "execution_count": 46
        }
      ]
    },
    {
      "cell_type": "code",
      "source": [
        "df_fake_with_noise_1.shape"
      ],
      "metadata": {
        "id": "NYUzsLdavgxy",
        "outputId": "b68b5207-d4a3-4c4f-b038-02282b8ad2f8",
        "colab": {
          "base_uri": "https://localhost:8080/",
          "height": 169
        }
      },
      "execution_count": null,
      "outputs": [
        {
          "output_type": "error",
          "ename": "NameError",
          "evalue": "ignored",
          "traceback": [
            "\u001b[0;31m---------------------------------------------------------------------------\u001b[0m",
            "\u001b[0;31mNameError\u001b[0m                                 Traceback (most recent call last)",
            "\u001b[0;32m<ipython-input-16-11b3e1995aa9>\u001b[0m in \u001b[0;36m<module>\u001b[0;34m()\u001b[0m\n\u001b[0;32m----> 1\u001b[0;31m \u001b[0mdf_fake_with_noise_1\u001b[0m\u001b[0;34m.\u001b[0m\u001b[0mshape\u001b[0m\u001b[0;34m\u001b[0m\u001b[0;34m\u001b[0m\u001b[0m\n\u001b[0m",
            "\u001b[0;31mNameError\u001b[0m: name 'df_fake_with_noise_1' is not defined"
          ]
        }
      ]
    },
    {
      "cell_type": "code",
      "source": [
        "df.shape"
      ],
      "metadata": {
        "id": "_DXY11fovjLJ",
        "outputId": "f0c3d0a0-cd1a-4424-f395-7dd11218803b",
        "colab": {
          "base_uri": "https://localhost:8080/"
        }
      },
      "execution_count": null,
      "outputs": [
        {
          "output_type": "execute_result",
          "data": {
            "text/plain": [
              "(689, 17)"
            ]
          },
          "metadata": {},
          "execution_count": 34
        }
      ]
    },
    {
      "cell_type": "code",
      "execution_count": null,
      "metadata": {
        "id": "xgk9Pcierylr",
        "outputId": "9aa4296b-1ea5-41e6-fe31-854151ca5823",
        "colab": {
          "base_uri": "https://localhost:8080/",
          "height": 364
        }
      },
      "outputs": [
        {
          "output_type": "execute_result",
          "data": {
            "text/plain": [
              "         Unnamed: 0             b         30.83             0             u  \\\n",
              "count  10000.000000  10000.000000  10000.000000  10000.000000  10000.000000   \n",
              "mean     457.928749      0.009385      0.797904      0.322467      0.012781   \n",
              "std       29.369291      0.001268      0.066237      0.074413      0.002269   \n",
              "min      202.954369      0.004510      0.356644      0.167623      0.006515   \n",
              "25%      446.468611      0.008533      0.767751      0.278398      0.011262   \n",
              "50%      462.034037      0.009369      0.811945      0.306317      0.012599   \n",
              "75%      475.460694      0.010187      0.841946      0.341532      0.014006   \n",
              "max      547.587550      0.016538      0.941562      0.780576      0.028000   \n",
              "\n",
              "                  g             w             v          1.25             t  \\\n",
              "count  10000.000000  10000.000000  10000.000000  10000.000000  10000.000000   \n",
              "mean       0.008714      0.032192      0.035978      0.122035      0.001023   \n",
              "std        0.001958      0.008387      0.006797      0.031967      0.000341   \n",
              "min        0.003234      0.010632      0.013369      0.038563     -0.000548   \n",
              "25%        0.007404      0.025980      0.031329      0.100882      0.000817   \n",
              "50%        0.008568      0.030888      0.035716      0.116409      0.001031   \n",
              "75%        0.009781      0.037602      0.040010      0.135719      0.001243   \n",
              "max        0.022498      0.065059      0.073377      0.341492      0.003767   \n",
              "\n",
              "                t.1            01             f           g.1         00202  \\\n",
              "count  10000.000000  10000.000000  10000.000000  10000.000000  10000.000000   \n",
              "mean       0.000479      0.000671      0.002026      0.000107      0.373726   \n",
              "std        0.000489      0.001924      0.000817      0.000485      0.073092   \n",
              "min       -0.001431     -0.005686     -0.000178     -0.002068      0.175220   \n",
              "25%        0.000158     -0.000706      0.001439     -0.000216      0.322523   \n",
              "50%        0.000443      0.000594      0.001885      0.000107      0.364296   \n",
              "75%        0.000751      0.001959      0.002517      0.000429      0.415368   \n",
              "max        0.004803      0.010175      0.005360      0.002263      0.672654   \n",
              "\n",
              "                0.1    Class  \n",
              "count  10000.000000  10000.0  \n",
              "mean       0.035783      1.0  \n",
              "std        0.030732      0.0  \n",
              "min       -0.061610      1.0  \n",
              "25%        0.015425      1.0  \n",
              "50%        0.033846      1.0  \n",
              "75%        0.053253      1.0  \n",
              "max        0.207970      1.0  "
            ],
            "text/html": [
              "\n",
              "  <div id=\"df-5e431b48-9858-4749-8ee6-ffbe49a01f72\">\n",
              "    <div class=\"colab-df-container\">\n",
              "      <div>\n",
              "<style scoped>\n",
              "    .dataframe tbody tr th:only-of-type {\n",
              "        vertical-align: middle;\n",
              "    }\n",
              "\n",
              "    .dataframe tbody tr th {\n",
              "        vertical-align: top;\n",
              "    }\n",
              "\n",
              "    .dataframe thead th {\n",
              "        text-align: right;\n",
              "    }\n",
              "</style>\n",
              "<table border=\"1\" class=\"dataframe\">\n",
              "  <thead>\n",
              "    <tr style=\"text-align: right;\">\n",
              "      <th></th>\n",
              "      <th>Unnamed: 0</th>\n",
              "      <th>b</th>\n",
              "      <th>30.83</th>\n",
              "      <th>0</th>\n",
              "      <th>u</th>\n",
              "      <th>g</th>\n",
              "      <th>w</th>\n",
              "      <th>v</th>\n",
              "      <th>1.25</th>\n",
              "      <th>t</th>\n",
              "      <th>t.1</th>\n",
              "      <th>01</th>\n",
              "      <th>f</th>\n",
              "      <th>g.1</th>\n",
              "      <th>00202</th>\n",
              "      <th>0.1</th>\n",
              "      <th>Class</th>\n",
              "    </tr>\n",
              "  </thead>\n",
              "  <tbody>\n",
              "    <tr>\n",
              "      <th>count</th>\n",
              "      <td>10000.000000</td>\n",
              "      <td>10000.000000</td>\n",
              "      <td>10000.000000</td>\n",
              "      <td>10000.000000</td>\n",
              "      <td>10000.000000</td>\n",
              "      <td>10000.000000</td>\n",
              "      <td>10000.000000</td>\n",
              "      <td>10000.000000</td>\n",
              "      <td>10000.000000</td>\n",
              "      <td>10000.000000</td>\n",
              "      <td>10000.000000</td>\n",
              "      <td>10000.000000</td>\n",
              "      <td>10000.000000</td>\n",
              "      <td>10000.000000</td>\n",
              "      <td>10000.000000</td>\n",
              "      <td>10000.000000</td>\n",
              "      <td>10000.0</td>\n",
              "    </tr>\n",
              "    <tr>\n",
              "      <th>mean</th>\n",
              "      <td>457.928749</td>\n",
              "      <td>0.009385</td>\n",
              "      <td>0.797904</td>\n",
              "      <td>0.322467</td>\n",
              "      <td>0.012781</td>\n",
              "      <td>0.008714</td>\n",
              "      <td>0.032192</td>\n",
              "      <td>0.035978</td>\n",
              "      <td>0.122035</td>\n",
              "      <td>0.001023</td>\n",
              "      <td>0.000479</td>\n",
              "      <td>0.000671</td>\n",
              "      <td>0.002026</td>\n",
              "      <td>0.000107</td>\n",
              "      <td>0.373726</td>\n",
              "      <td>0.035783</td>\n",
              "      <td>1.0</td>\n",
              "    </tr>\n",
              "    <tr>\n",
              "      <th>std</th>\n",
              "      <td>29.369291</td>\n",
              "      <td>0.001268</td>\n",
              "      <td>0.066237</td>\n",
              "      <td>0.074413</td>\n",
              "      <td>0.002269</td>\n",
              "      <td>0.001958</td>\n",
              "      <td>0.008387</td>\n",
              "      <td>0.006797</td>\n",
              "      <td>0.031967</td>\n",
              "      <td>0.000341</td>\n",
              "      <td>0.000489</td>\n",
              "      <td>0.001924</td>\n",
              "      <td>0.000817</td>\n",
              "      <td>0.000485</td>\n",
              "      <td>0.073092</td>\n",
              "      <td>0.030732</td>\n",
              "      <td>0.0</td>\n",
              "    </tr>\n",
              "    <tr>\n",
              "      <th>min</th>\n",
              "      <td>202.954369</td>\n",
              "      <td>0.004510</td>\n",
              "      <td>0.356644</td>\n",
              "      <td>0.167623</td>\n",
              "      <td>0.006515</td>\n",
              "      <td>0.003234</td>\n",
              "      <td>0.010632</td>\n",
              "      <td>0.013369</td>\n",
              "      <td>0.038563</td>\n",
              "      <td>-0.000548</td>\n",
              "      <td>-0.001431</td>\n",
              "      <td>-0.005686</td>\n",
              "      <td>-0.000178</td>\n",
              "      <td>-0.002068</td>\n",
              "      <td>0.175220</td>\n",
              "      <td>-0.061610</td>\n",
              "      <td>1.0</td>\n",
              "    </tr>\n",
              "    <tr>\n",
              "      <th>25%</th>\n",
              "      <td>446.468611</td>\n",
              "      <td>0.008533</td>\n",
              "      <td>0.767751</td>\n",
              "      <td>0.278398</td>\n",
              "      <td>0.011262</td>\n",
              "      <td>0.007404</td>\n",
              "      <td>0.025980</td>\n",
              "      <td>0.031329</td>\n",
              "      <td>0.100882</td>\n",
              "      <td>0.000817</td>\n",
              "      <td>0.000158</td>\n",
              "      <td>-0.000706</td>\n",
              "      <td>0.001439</td>\n",
              "      <td>-0.000216</td>\n",
              "      <td>0.322523</td>\n",
              "      <td>0.015425</td>\n",
              "      <td>1.0</td>\n",
              "    </tr>\n",
              "    <tr>\n",
              "      <th>50%</th>\n",
              "      <td>462.034037</td>\n",
              "      <td>0.009369</td>\n",
              "      <td>0.811945</td>\n",
              "      <td>0.306317</td>\n",
              "      <td>0.012599</td>\n",
              "      <td>0.008568</td>\n",
              "      <td>0.030888</td>\n",
              "      <td>0.035716</td>\n",
              "      <td>0.116409</td>\n",
              "      <td>0.001031</td>\n",
              "      <td>0.000443</td>\n",
              "      <td>0.000594</td>\n",
              "      <td>0.001885</td>\n",
              "      <td>0.000107</td>\n",
              "      <td>0.364296</td>\n",
              "      <td>0.033846</td>\n",
              "      <td>1.0</td>\n",
              "    </tr>\n",
              "    <tr>\n",
              "      <th>75%</th>\n",
              "      <td>475.460694</td>\n",
              "      <td>0.010187</td>\n",
              "      <td>0.841946</td>\n",
              "      <td>0.341532</td>\n",
              "      <td>0.014006</td>\n",
              "      <td>0.009781</td>\n",
              "      <td>0.037602</td>\n",
              "      <td>0.040010</td>\n",
              "      <td>0.135719</td>\n",
              "      <td>0.001243</td>\n",
              "      <td>0.000751</td>\n",
              "      <td>0.001959</td>\n",
              "      <td>0.002517</td>\n",
              "      <td>0.000429</td>\n",
              "      <td>0.415368</td>\n",
              "      <td>0.053253</td>\n",
              "      <td>1.0</td>\n",
              "    </tr>\n",
              "    <tr>\n",
              "      <th>max</th>\n",
              "      <td>547.587550</td>\n",
              "      <td>0.016538</td>\n",
              "      <td>0.941562</td>\n",
              "      <td>0.780576</td>\n",
              "      <td>0.028000</td>\n",
              "      <td>0.022498</td>\n",
              "      <td>0.065059</td>\n",
              "      <td>0.073377</td>\n",
              "      <td>0.341492</td>\n",
              "      <td>0.003767</td>\n",
              "      <td>0.004803</td>\n",
              "      <td>0.010175</td>\n",
              "      <td>0.005360</td>\n",
              "      <td>0.002263</td>\n",
              "      <td>0.672654</td>\n",
              "      <td>0.207970</td>\n",
              "      <td>1.0</td>\n",
              "    </tr>\n",
              "  </tbody>\n",
              "</table>\n",
              "</div>\n",
              "      <button class=\"colab-df-convert\" onclick=\"convertToInteractive('df-5e431b48-9858-4749-8ee6-ffbe49a01f72')\"\n",
              "              title=\"Convert this dataframe to an interactive table.\"\n",
              "              style=\"display:none;\">\n",
              "        \n",
              "  <svg xmlns=\"http://www.w3.org/2000/svg\" height=\"24px\"viewBox=\"0 0 24 24\"\n",
              "       width=\"24px\">\n",
              "    <path d=\"M0 0h24v24H0V0z\" fill=\"none\"/>\n",
              "    <path d=\"M18.56 5.44l.94 2.06.94-2.06 2.06-.94-2.06-.94-.94-2.06-.94 2.06-2.06.94zm-11 1L8.5 8.5l.94-2.06 2.06-.94-2.06-.94L8.5 2.5l-.94 2.06-2.06.94zm10 10l.94 2.06.94-2.06 2.06-.94-2.06-.94-.94-2.06-.94 2.06-2.06.94z\"/><path d=\"M17.41 7.96l-1.37-1.37c-.4-.4-.92-.59-1.43-.59-.52 0-1.04.2-1.43.59L10.3 9.45l-7.72 7.72c-.78.78-.78 2.05 0 2.83L4 21.41c.39.39.9.59 1.41.59.51 0 1.02-.2 1.41-.59l7.78-7.78 2.81-2.81c.8-.78.8-2.07 0-2.86zM5.41 20L4 18.59l7.72-7.72 1.47 1.35L5.41 20z\"/>\n",
              "  </svg>\n",
              "      </button>\n",
              "      \n",
              "  <style>\n",
              "    .colab-df-container {\n",
              "      display:flex;\n",
              "      flex-wrap:wrap;\n",
              "      gap: 12px;\n",
              "    }\n",
              "\n",
              "    .colab-df-convert {\n",
              "      background-color: #E8F0FE;\n",
              "      border: none;\n",
              "      border-radius: 50%;\n",
              "      cursor: pointer;\n",
              "      display: none;\n",
              "      fill: #1967D2;\n",
              "      height: 32px;\n",
              "      padding: 0 0 0 0;\n",
              "      width: 32px;\n",
              "    }\n",
              "\n",
              "    .colab-df-convert:hover {\n",
              "      background-color: #E2EBFA;\n",
              "      box-shadow: 0px 1px 2px rgba(60, 64, 67, 0.3), 0px 1px 3px 1px rgba(60, 64, 67, 0.15);\n",
              "      fill: #174EA6;\n",
              "    }\n",
              "\n",
              "    [theme=dark] .colab-df-convert {\n",
              "      background-color: #3B4455;\n",
              "      fill: #D2E3FC;\n",
              "    }\n",
              "\n",
              "    [theme=dark] .colab-df-convert:hover {\n",
              "      background-color: #434B5C;\n",
              "      box-shadow: 0px 1px 3px 1px rgba(0, 0, 0, 0.15);\n",
              "      filter: drop-shadow(0px 1px 2px rgba(0, 0, 0, 0.3));\n",
              "      fill: #FFFFFF;\n",
              "    }\n",
              "  </style>\n",
              "\n",
              "      <script>\n",
              "        const buttonEl =\n",
              "          document.querySelector('#df-5e431b48-9858-4749-8ee6-ffbe49a01f72 button.colab-df-convert');\n",
              "        buttonEl.style.display =\n",
              "          google.colab.kernel.accessAllowed ? 'block' : 'none';\n",
              "\n",
              "        async function convertToInteractive(key) {\n",
              "          const element = document.querySelector('#df-5e431b48-9858-4749-8ee6-ffbe49a01f72');\n",
              "          const dataTable =\n",
              "            await google.colab.kernel.invokeFunction('convertToInteractive',\n",
              "                                                     [key], {});\n",
              "          if (!dataTable) return;\n",
              "\n",
              "          const docLinkHtml = 'Like what you see? Visit the ' +\n",
              "            '<a target=\"_blank\" href=https://colab.research.google.com/notebooks/data_table.ipynb>data table notebook</a>'\n",
              "            + ' to learn more about interactive tables.';\n",
              "          element.innerHTML = '';\n",
              "          dataTable['output_type'] = 'display_data';\n",
              "          await google.colab.output.renderOutput(dataTable, element);\n",
              "          const docLink = document.createElement('div');\n",
              "          docLink.innerHTML = docLinkHtml;\n",
              "          element.appendChild(docLink);\n",
              "        }\n",
              "      </script>\n",
              "    </div>\n",
              "  </div>\n",
              "  "
            ]
          },
          "metadata": {},
          "execution_count": 35
        }
      ],
      "source": [
        "df_fake_with_noise_1.describe()"
      ]
    },
    {
      "cell_type": "code",
      "execution_count": null,
      "metadata": {
        "id": "m0qQ8Kmarylr",
        "outputId": "d943b12d-01f4-4aa1-9bf7-952fecca75b8",
        "colab": {
          "base_uri": "https://localhost:8080/",
          "height": 382
        }
      },
      "outputs": [
        {
          "output_type": "execute_result",
          "data": {
            "text/plain": [
              "       Unnamed: 0           b       30.83           0           u           g  \\\n",
              "count  383.000000  383.000000  383.000000  383.000000  383.000000  383.000000   \n",
              "mean   409.919060    0.010576    0.648368    0.367929    0.014860    0.010651   \n",
              "std    171.832748    0.008070    0.268720    0.262345    0.011641    0.011894   \n",
              "min     69.000000    0.000000    0.004965    0.000000    0.000000    0.000000   \n",
              "25%    304.500000    0.006006    0.438834    0.171939    0.008507    0.004353   \n",
              "50%    407.000000    0.008623    0.741314    0.292825    0.011908    0.006616   \n",
              "75%    535.500000    0.012382    0.874328    0.516077    0.017069    0.013325   \n",
              "max    688.000000    0.091574    0.999641    0.973534    0.137361    0.137361   \n",
              "\n",
              "                w           v        1.25           t         t.1          01  \\\n",
              "count  383.000000  383.000000  383.000000  383.000000  383.000000  383.000000   \n",
              "mean     0.038759    0.040288    0.121656    0.001064    0.001512    0.004126   \n",
              "std      0.035125    0.034689    0.137984    0.002456    0.003390    0.013342   \n",
              "min      0.000000    0.000000    0.000000    0.000000    0.000000    0.000000   \n",
              "25%      0.013406    0.019051    0.014734    0.000000    0.000000    0.000000   \n",
              "50%      0.027639    0.033761    0.061570    0.000000    0.000000    0.000000   \n",
              "75%      0.054137    0.050237    0.204230    0.000000    0.000000    0.000000   \n",
              "max      0.253872    0.366295    0.756174    0.014853    0.027535    0.134567   \n",
              "\n",
              "                f         g.1       00202         0.1  Class  \n",
              "count  383.000000  383.000000  383.000000  383.000000  383.0  \n",
              "mean     0.002528    0.001475    0.358319    0.145081    1.0  \n",
              "std      0.003368    0.004787    0.244312    0.233020    0.0  \n",
              "min      0.000000    0.000000    0.000000    0.000000    1.0  \n",
              "25%      0.000000    0.000000    0.177118    0.000000    1.0  \n",
              "50%      0.000000    0.000000    0.344039    0.004889    1.0  \n",
              "75%      0.004727    0.000000    0.526302    0.227231    1.0  \n",
              "max      0.018075    0.036149    0.975636    0.941934    1.0  "
            ],
            "text/html": [
              "\n",
              "  <div id=\"df-cc79553b-d9ca-49b1-ade9-c26cda0b9142\">\n",
              "    <div class=\"colab-df-container\">\n",
              "      <div>\n",
              "<style scoped>\n",
              "    .dataframe tbody tr th:only-of-type {\n",
              "        vertical-align: middle;\n",
              "    }\n",
              "\n",
              "    .dataframe tbody tr th {\n",
              "        vertical-align: top;\n",
              "    }\n",
              "\n",
              "    .dataframe thead th {\n",
              "        text-align: right;\n",
              "    }\n",
              "</style>\n",
              "<table border=\"1\" class=\"dataframe\">\n",
              "  <thead>\n",
              "    <tr style=\"text-align: right;\">\n",
              "      <th></th>\n",
              "      <th>Unnamed: 0</th>\n",
              "      <th>b</th>\n",
              "      <th>30.83</th>\n",
              "      <th>0</th>\n",
              "      <th>u</th>\n",
              "      <th>g</th>\n",
              "      <th>w</th>\n",
              "      <th>v</th>\n",
              "      <th>1.25</th>\n",
              "      <th>t</th>\n",
              "      <th>t.1</th>\n",
              "      <th>01</th>\n",
              "      <th>f</th>\n",
              "      <th>g.1</th>\n",
              "      <th>00202</th>\n",
              "      <th>0.1</th>\n",
              "      <th>Class</th>\n",
              "    </tr>\n",
              "  </thead>\n",
              "  <tbody>\n",
              "    <tr>\n",
              "      <th>count</th>\n",
              "      <td>383.000000</td>\n",
              "      <td>383.000000</td>\n",
              "      <td>383.000000</td>\n",
              "      <td>383.000000</td>\n",
              "      <td>383.000000</td>\n",
              "      <td>383.000000</td>\n",
              "      <td>383.000000</td>\n",
              "      <td>383.000000</td>\n",
              "      <td>383.000000</td>\n",
              "      <td>383.000000</td>\n",
              "      <td>383.000000</td>\n",
              "      <td>383.000000</td>\n",
              "      <td>383.000000</td>\n",
              "      <td>383.000000</td>\n",
              "      <td>383.000000</td>\n",
              "      <td>383.000000</td>\n",
              "      <td>383.0</td>\n",
              "    </tr>\n",
              "    <tr>\n",
              "      <th>mean</th>\n",
              "      <td>409.919060</td>\n",
              "      <td>0.010576</td>\n",
              "      <td>0.648368</td>\n",
              "      <td>0.367929</td>\n",
              "      <td>0.014860</td>\n",
              "      <td>0.010651</td>\n",
              "      <td>0.038759</td>\n",
              "      <td>0.040288</td>\n",
              "      <td>0.121656</td>\n",
              "      <td>0.001064</td>\n",
              "      <td>0.001512</td>\n",
              "      <td>0.004126</td>\n",
              "      <td>0.002528</td>\n",
              "      <td>0.001475</td>\n",
              "      <td>0.358319</td>\n",
              "      <td>0.145081</td>\n",
              "      <td>1.0</td>\n",
              "    </tr>\n",
              "    <tr>\n",
              "      <th>std</th>\n",
              "      <td>171.832748</td>\n",
              "      <td>0.008070</td>\n",
              "      <td>0.268720</td>\n",
              "      <td>0.262345</td>\n",
              "      <td>0.011641</td>\n",
              "      <td>0.011894</td>\n",
              "      <td>0.035125</td>\n",
              "      <td>0.034689</td>\n",
              "      <td>0.137984</td>\n",
              "      <td>0.002456</td>\n",
              "      <td>0.003390</td>\n",
              "      <td>0.013342</td>\n",
              "      <td>0.003368</td>\n",
              "      <td>0.004787</td>\n",
              "      <td>0.244312</td>\n",
              "      <td>0.233020</td>\n",
              "      <td>0.0</td>\n",
              "    </tr>\n",
              "    <tr>\n",
              "      <th>min</th>\n",
              "      <td>69.000000</td>\n",
              "      <td>0.000000</td>\n",
              "      <td>0.004965</td>\n",
              "      <td>0.000000</td>\n",
              "      <td>0.000000</td>\n",
              "      <td>0.000000</td>\n",
              "      <td>0.000000</td>\n",
              "      <td>0.000000</td>\n",
              "      <td>0.000000</td>\n",
              "      <td>0.000000</td>\n",
              "      <td>0.000000</td>\n",
              "      <td>0.000000</td>\n",
              "      <td>0.000000</td>\n",
              "      <td>0.000000</td>\n",
              "      <td>0.000000</td>\n",
              "      <td>0.000000</td>\n",
              "      <td>1.0</td>\n",
              "    </tr>\n",
              "    <tr>\n",
              "      <th>25%</th>\n",
              "      <td>304.500000</td>\n",
              "      <td>0.006006</td>\n",
              "      <td>0.438834</td>\n",
              "      <td>0.171939</td>\n",
              "      <td>0.008507</td>\n",
              "      <td>0.004353</td>\n",
              "      <td>0.013406</td>\n",
              "      <td>0.019051</td>\n",
              "      <td>0.014734</td>\n",
              "      <td>0.000000</td>\n",
              "      <td>0.000000</td>\n",
              "      <td>0.000000</td>\n",
              "      <td>0.000000</td>\n",
              "      <td>0.000000</td>\n",
              "      <td>0.177118</td>\n",
              "      <td>0.000000</td>\n",
              "      <td>1.0</td>\n",
              "    </tr>\n",
              "    <tr>\n",
              "      <th>50%</th>\n",
              "      <td>407.000000</td>\n",
              "      <td>0.008623</td>\n",
              "      <td>0.741314</td>\n",
              "      <td>0.292825</td>\n",
              "      <td>0.011908</td>\n",
              "      <td>0.006616</td>\n",
              "      <td>0.027639</td>\n",
              "      <td>0.033761</td>\n",
              "      <td>0.061570</td>\n",
              "      <td>0.000000</td>\n",
              "      <td>0.000000</td>\n",
              "      <td>0.000000</td>\n",
              "      <td>0.000000</td>\n",
              "      <td>0.000000</td>\n",
              "      <td>0.344039</td>\n",
              "      <td>0.004889</td>\n",
              "      <td>1.0</td>\n",
              "    </tr>\n",
              "    <tr>\n",
              "      <th>75%</th>\n",
              "      <td>535.500000</td>\n",
              "      <td>0.012382</td>\n",
              "      <td>0.874328</td>\n",
              "      <td>0.516077</td>\n",
              "      <td>0.017069</td>\n",
              "      <td>0.013325</td>\n",
              "      <td>0.054137</td>\n",
              "      <td>0.050237</td>\n",
              "      <td>0.204230</td>\n",
              "      <td>0.000000</td>\n",
              "      <td>0.000000</td>\n",
              "      <td>0.000000</td>\n",
              "      <td>0.004727</td>\n",
              "      <td>0.000000</td>\n",
              "      <td>0.526302</td>\n",
              "      <td>0.227231</td>\n",
              "      <td>1.0</td>\n",
              "    </tr>\n",
              "    <tr>\n",
              "      <th>max</th>\n",
              "      <td>688.000000</td>\n",
              "      <td>0.091574</td>\n",
              "      <td>0.999641</td>\n",
              "      <td>0.973534</td>\n",
              "      <td>0.137361</td>\n",
              "      <td>0.137361</td>\n",
              "      <td>0.253872</td>\n",
              "      <td>0.366295</td>\n",
              "      <td>0.756174</td>\n",
              "      <td>0.014853</td>\n",
              "      <td>0.027535</td>\n",
              "      <td>0.134567</td>\n",
              "      <td>0.018075</td>\n",
              "      <td>0.036149</td>\n",
              "      <td>0.975636</td>\n",
              "      <td>0.941934</td>\n",
              "      <td>1.0</td>\n",
              "    </tr>\n",
              "  </tbody>\n",
              "</table>\n",
              "</div>\n",
              "      <button class=\"colab-df-convert\" onclick=\"convertToInteractive('df-cc79553b-d9ca-49b1-ade9-c26cda0b9142')\"\n",
              "              title=\"Convert this dataframe to an interactive table.\"\n",
              "              style=\"display:none;\">\n",
              "        \n",
              "  <svg xmlns=\"http://www.w3.org/2000/svg\" height=\"24px\"viewBox=\"0 0 24 24\"\n",
              "       width=\"24px\">\n",
              "    <path d=\"M0 0h24v24H0V0z\" fill=\"none\"/>\n",
              "    <path d=\"M18.56 5.44l.94 2.06.94-2.06 2.06-.94-2.06-.94-.94-2.06-.94 2.06-2.06.94zm-11 1L8.5 8.5l.94-2.06 2.06-.94-2.06-.94L8.5 2.5l-.94 2.06-2.06.94zm10 10l.94 2.06.94-2.06 2.06-.94-2.06-.94-.94-2.06-.94 2.06-2.06.94z\"/><path d=\"M17.41 7.96l-1.37-1.37c-.4-.4-.92-.59-1.43-.59-.52 0-1.04.2-1.43.59L10.3 9.45l-7.72 7.72c-.78.78-.78 2.05 0 2.83L4 21.41c.39.39.9.59 1.41.59.51 0 1.02-.2 1.41-.59l7.78-7.78 2.81-2.81c.8-.78.8-2.07 0-2.86zM5.41 20L4 18.59l7.72-7.72 1.47 1.35L5.41 20z\"/>\n",
              "  </svg>\n",
              "      </button>\n",
              "      \n",
              "  <style>\n",
              "    .colab-df-container {\n",
              "      display:flex;\n",
              "      flex-wrap:wrap;\n",
              "      gap: 12px;\n",
              "    }\n",
              "\n",
              "    .colab-df-convert {\n",
              "      background-color: #E8F0FE;\n",
              "      border: none;\n",
              "      border-radius: 50%;\n",
              "      cursor: pointer;\n",
              "      display: none;\n",
              "      fill: #1967D2;\n",
              "      height: 32px;\n",
              "      padding: 0 0 0 0;\n",
              "      width: 32px;\n",
              "    }\n",
              "\n",
              "    .colab-df-convert:hover {\n",
              "      background-color: #E2EBFA;\n",
              "      box-shadow: 0px 1px 2px rgba(60, 64, 67, 0.3), 0px 1px 3px 1px rgba(60, 64, 67, 0.15);\n",
              "      fill: #174EA6;\n",
              "    }\n",
              "\n",
              "    [theme=dark] .colab-df-convert {\n",
              "      background-color: #3B4455;\n",
              "      fill: #D2E3FC;\n",
              "    }\n",
              "\n",
              "    [theme=dark] .colab-df-convert:hover {\n",
              "      background-color: #434B5C;\n",
              "      box-shadow: 0px 1px 3px 1px rgba(0, 0, 0, 0.15);\n",
              "      filter: drop-shadow(0px 1px 2px rgba(0, 0, 0, 0.3));\n",
              "      fill: #FFFFFF;\n",
              "    }\n",
              "  </style>\n",
              "\n",
              "      <script>\n",
              "        const buttonEl =\n",
              "          document.querySelector('#df-cc79553b-d9ca-49b1-ade9-c26cda0b9142 button.colab-df-convert');\n",
              "        buttonEl.style.display =\n",
              "          google.colab.kernel.accessAllowed ? 'block' : 'none';\n",
              "\n",
              "        async function convertToInteractive(key) {\n",
              "          const element = document.querySelector('#df-cc79553b-d9ca-49b1-ade9-c26cda0b9142');\n",
              "          const dataTable =\n",
              "            await google.colab.kernel.invokeFunction('convertToInteractive',\n",
              "                                                     [key], {});\n",
              "          if (!dataTable) return;\n",
              "\n",
              "          const docLinkHtml = 'Like what you see? Visit the ' +\n",
              "            '<a target=\"_blank\" href=https://colab.research.google.com/notebooks/data_table.ipynb>data table notebook</a>'\n",
              "            + ' to learn more about interactive tables.';\n",
              "          element.innerHTML = '';\n",
              "          dataTable['output_type'] = 'display_data';\n",
              "          await google.colab.output.renderOutput(dataTable, element);\n",
              "          const docLink = document.createElement('div');\n",
              "          docLink.innerHTML = docLinkHtml;\n",
              "          element.appendChild(docLink);\n",
              "        }\n",
              "      </script>\n",
              "    </div>\n",
              "  </div>\n",
              "  "
            ]
          },
          "metadata": {},
          "execution_count": 48
        }
      ],
      "source": [
        "df[df['Class']==1].describe()"
      ]
    },
    {
      "cell_type": "code",
      "source": [
        "df.columns"
      ],
      "metadata": {
        "id": "kycEoYPHv-Oy",
        "outputId": "7dff7a01-a960-496c-b691-372231c083fc",
        "colab": {
          "base_uri": "https://localhost:8080/"
        }
      },
      "execution_count": null,
      "outputs": [
        {
          "output_type": "execute_result",
          "data": {
            "text/plain": [
              "Index(['Unnamed: 0', 'b', '30.83', '0', 'u', 'g', 'w', 'v', '1.25', 't', 't.1',\n",
              "       '01', 'f', 'g.1', '00202', '0.1', 'Class'],\n",
              "      dtype='object')"
            ]
          },
          "metadata": {},
          "execution_count": 55
        }
      ]
    },
    {
      "cell_type": "code",
      "execution_count": null,
      "metadata": {
        "id": "FNR5FaUJrylr"
      },
      "outputs": [],
      "source": [
        "import matplotlib.pyplot as plt\n",
        "fig, axs = plt.subplots(4, 2)\n",
        "# Defining custom 'xlim' and 'ylim' values.\n",
        "custom_xlim = (-30, 5)\n",
        "custom_ylim = (-40, 22)\n",
        "# Setting the values for all axes.\n",
        "plt.setp(axs, xlim=custom_xlim, ylim=custom_ylim)\n",
        "fig.set_size_inches(25.5, 17.5)\n",
        "axs[0, 0].scatter(df[df['Class']==0]['b'].values, df[df['Class']==0]['30.83'].values, alpha=0.5)\n",
        "axs[0, 0].set_title('V1 vs V2 for Class==0')\n",
        "axs[0, 1].scatter(df[df['Class']==1]['b'].values, df[df['Class']==1]['30.83'].values, alpha=0.5)\n",
        "axs[0, 1].set_title('V1 vs V2 for Class==1')\n",
        "axs[1, 0].scatter(df_fake_with_noise['b'].values, df_fake_with_noise['30.83'].values, alpha=0.5)\n",
        "axs[1, 0].set_title('Fake Data with latent_factors=1')"
      ]
    },
    {
      "cell_type": "code",
      "source": [
        "df_fake=df_fake_1.append(df_fake_0)"
      ],
      "metadata": {
        "id": "tlsKQtYxGKeS"
      },
      "execution_count": null,
      "outputs": []
    },
    {
      "cell_type": "code",
      "source": [
        "df_fake_0.head(2)"
      ],
      "metadata": {
        "colab": {
          "base_uri": "https://localhost:8080/",
          "height": 112
        },
        "id": "j1JAgB94VCDN",
        "outputId": "7fbfaae2-8b17-43c4-d7a6-a25484c06ed4"
      },
      "execution_count": null,
      "outputs": [
        {
          "output_type": "execute_result",
          "data": {
            "text/plain": [
              "   Unnamed: 0         b     30.83         0         u         g         w  \\\n",
              "0  116.443977  0.004774  0.657120  0.416850  0.006268  0.003396  0.016589   \n",
              "1  135.873444  0.005007  0.732998  0.403837  0.006232  0.003689  0.018500   \n",
              "\n",
              "          v      1.25         t       t.1        01         f       g.1  \\\n",
              "0  0.012383  0.256278  0.003049  0.002623  0.022002  0.000988 -0.000259   \n",
              "1  0.014948  0.257179  0.002970  0.002687  0.021634  0.001349 -0.000112   \n",
              "\n",
              "      00202       0.1  Class  \n",
              "0  0.093828  0.443219      0  \n",
              "1  0.085728  0.318749      0  "
            ],
            "text/html": [
              "\n",
              "  <div id=\"df-f7fa1d60-8d64-4570-9d7c-f317c4643cf6\">\n",
              "    <div class=\"colab-df-container\">\n",
              "      <div>\n",
              "<style scoped>\n",
              "    .dataframe tbody tr th:only-of-type {\n",
              "        vertical-align: middle;\n",
              "    }\n",
              "\n",
              "    .dataframe tbody tr th {\n",
              "        vertical-align: top;\n",
              "    }\n",
              "\n",
              "    .dataframe thead th {\n",
              "        text-align: right;\n",
              "    }\n",
              "</style>\n",
              "<table border=\"1\" class=\"dataframe\">\n",
              "  <thead>\n",
              "    <tr style=\"text-align: right;\">\n",
              "      <th></th>\n",
              "      <th>Unnamed: 0</th>\n",
              "      <th>b</th>\n",
              "      <th>30.83</th>\n",
              "      <th>0</th>\n",
              "      <th>u</th>\n",
              "      <th>g</th>\n",
              "      <th>w</th>\n",
              "      <th>v</th>\n",
              "      <th>1.25</th>\n",
              "      <th>t</th>\n",
              "      <th>t.1</th>\n",
              "      <th>01</th>\n",
              "      <th>f</th>\n",
              "      <th>g.1</th>\n",
              "      <th>00202</th>\n",
              "      <th>0.1</th>\n",
              "      <th>Class</th>\n",
              "    </tr>\n",
              "  </thead>\n",
              "  <tbody>\n",
              "    <tr>\n",
              "      <th>0</th>\n",
              "      <td>116.443977</td>\n",
              "      <td>0.004774</td>\n",
              "      <td>0.657120</td>\n",
              "      <td>0.416850</td>\n",
              "      <td>0.006268</td>\n",
              "      <td>0.003396</td>\n",
              "      <td>0.016589</td>\n",
              "      <td>0.012383</td>\n",
              "      <td>0.256278</td>\n",
              "      <td>0.003049</td>\n",
              "      <td>0.002623</td>\n",
              "      <td>0.022002</td>\n",
              "      <td>0.000988</td>\n",
              "      <td>-0.000259</td>\n",
              "      <td>0.093828</td>\n",
              "      <td>0.443219</td>\n",
              "      <td>0</td>\n",
              "    </tr>\n",
              "    <tr>\n",
              "      <th>1</th>\n",
              "      <td>135.873444</td>\n",
              "      <td>0.005007</td>\n",
              "      <td>0.732998</td>\n",
              "      <td>0.403837</td>\n",
              "      <td>0.006232</td>\n",
              "      <td>0.003689</td>\n",
              "      <td>0.018500</td>\n",
              "      <td>0.014948</td>\n",
              "      <td>0.257179</td>\n",
              "      <td>0.002970</td>\n",
              "      <td>0.002687</td>\n",
              "      <td>0.021634</td>\n",
              "      <td>0.001349</td>\n",
              "      <td>-0.000112</td>\n",
              "      <td>0.085728</td>\n",
              "      <td>0.318749</td>\n",
              "      <td>0</td>\n",
              "    </tr>\n",
              "  </tbody>\n",
              "</table>\n",
              "</div>\n",
              "      <button class=\"colab-df-convert\" onclick=\"convertToInteractive('df-f7fa1d60-8d64-4570-9d7c-f317c4643cf6')\"\n",
              "              title=\"Convert this dataframe to an interactive table.\"\n",
              "              style=\"display:none;\">\n",
              "        \n",
              "  <svg xmlns=\"http://www.w3.org/2000/svg\" height=\"24px\"viewBox=\"0 0 24 24\"\n",
              "       width=\"24px\">\n",
              "    <path d=\"M0 0h24v24H0V0z\" fill=\"none\"/>\n",
              "    <path d=\"M18.56 5.44l.94 2.06.94-2.06 2.06-.94-2.06-.94-.94-2.06-.94 2.06-2.06.94zm-11 1L8.5 8.5l.94-2.06 2.06-.94-2.06-.94L8.5 2.5l-.94 2.06-2.06.94zm10 10l.94 2.06.94-2.06 2.06-.94-2.06-.94-.94-2.06-.94 2.06-2.06.94z\"/><path d=\"M17.41 7.96l-1.37-1.37c-.4-.4-.92-.59-1.43-.59-.52 0-1.04.2-1.43.59L10.3 9.45l-7.72 7.72c-.78.78-.78 2.05 0 2.83L4 21.41c.39.39.9.59 1.41.59.51 0 1.02-.2 1.41-.59l7.78-7.78 2.81-2.81c.8-.78.8-2.07 0-2.86zM5.41 20L4 18.59l7.72-7.72 1.47 1.35L5.41 20z\"/>\n",
              "  </svg>\n",
              "      </button>\n",
              "      \n",
              "  <style>\n",
              "    .colab-df-container {\n",
              "      display:flex;\n",
              "      flex-wrap:wrap;\n",
              "      gap: 12px;\n",
              "    }\n",
              "\n",
              "    .colab-df-convert {\n",
              "      background-color: #E8F0FE;\n",
              "      border: none;\n",
              "      border-radius: 50%;\n",
              "      cursor: pointer;\n",
              "      display: none;\n",
              "      fill: #1967D2;\n",
              "      height: 32px;\n",
              "      padding: 0 0 0 0;\n",
              "      width: 32px;\n",
              "    }\n",
              "\n",
              "    .colab-df-convert:hover {\n",
              "      background-color: #E2EBFA;\n",
              "      box-shadow: 0px 1px 2px rgba(60, 64, 67, 0.3), 0px 1px 3px 1px rgba(60, 64, 67, 0.15);\n",
              "      fill: #174EA6;\n",
              "    }\n",
              "\n",
              "    [theme=dark] .colab-df-convert {\n",
              "      background-color: #3B4455;\n",
              "      fill: #D2E3FC;\n",
              "    }\n",
              "\n",
              "    [theme=dark] .colab-df-convert:hover {\n",
              "      background-color: #434B5C;\n",
              "      box-shadow: 0px 1px 3px 1px rgba(0, 0, 0, 0.15);\n",
              "      filter: drop-shadow(0px 1px 2px rgba(0, 0, 0, 0.3));\n",
              "      fill: #FFFFFF;\n",
              "    }\n",
              "  </style>\n",
              "\n",
              "      <script>\n",
              "        const buttonEl =\n",
              "          document.querySelector('#df-f7fa1d60-8d64-4570-9d7c-f317c4643cf6 button.colab-df-convert');\n",
              "        buttonEl.style.display =\n",
              "          google.colab.kernel.accessAllowed ? 'block' : 'none';\n",
              "\n",
              "        async function convertToInteractive(key) {\n",
              "          const element = document.querySelector('#df-f7fa1d60-8d64-4570-9d7c-f317c4643cf6');\n",
              "          const dataTable =\n",
              "            await google.colab.kernel.invokeFunction('convertToInteractive',\n",
              "                                                     [key], {});\n",
              "          if (!dataTable) return;\n",
              "\n",
              "          const docLinkHtml = 'Like what you see? Visit the ' +\n",
              "            '<a target=\"_blank\" href=https://colab.research.google.com/notebooks/data_table.ipynb>data table notebook</a>'\n",
              "            + ' to learn more about interactive tables.';\n",
              "          element.innerHTML = '';\n",
              "          dataTable['output_type'] = 'display_data';\n",
              "          await google.colab.output.renderOutput(dataTable, element);\n",
              "          const docLink = document.createElement('div');\n",
              "          docLink.innerHTML = docLinkHtml;\n",
              "          element.appendChild(docLink);\n",
              "        }\n",
              "      </script>\n",
              "    </div>\n",
              "  </div>\n",
              "  "
            ]
          },
          "metadata": {},
          "execution_count": 18
        }
      ]
    },
    {
      "cell_type": "code",
      "source": [
        "df_fake[df_fake['Class']==0].shape"
      ],
      "metadata": {
        "colab": {
          "base_uri": "https://localhost:8080/"
        },
        "id": "HhbAD9maHLGB",
        "outputId": "339019c5-ede8-4e7f-aea5-247f2667c599"
      },
      "execution_count": null,
      "outputs": [
        {
          "output_type": "execute_result",
          "data": {
            "text/plain": [
              "(10000, 17)"
            ]
          },
          "metadata": {},
          "execution_count": 50
        }
      ]
    },
    {
      "cell_type": "code",
      "source": [
        "df_fake.to_csv('/content/drive/MyDrive/credit-approval_fake.csv')\n"
      ],
      "metadata": {
        "id": "KqieErcdHR_x"
      },
      "execution_count": null,
      "outputs": []
    },
    {
      "cell_type": "code",
      "source": [
        "df.to_csv('/content/drive/MyDrive/credit-approval_real.csv')"
      ],
      "metadata": {
        "id": "fraxnrgRHnKD"
      },
      "execution_count": null,
      "outputs": []
    },
    {
      "cell_type": "markdown",
      "metadata": {
        "id": "-jDrvKIwrylr"
      },
      "source": [
        "## Train Random Forest"
      ]
    },
    {
      "cell_type": "markdown",
      "metadata": {
        "id": "DT5UwTM6ryls"
      },
      "source": [
        "We want to compare how the built-in class_weight functionality performs vs the new approach (spoiler: if you do not use any weights the RandomForest will always predict 0). Hence, we create three dataframes: the original, the original appended with fake_data, the original appended with fake data with noise."
      ]
    },
    {
      "cell_type": "code",
      "execution_count": null,
      "metadata": {
        "id": "XlEc_Ll5ryls"
      },
      "outputs": [],
      "source": [
        "train_df, test_df = train_test_split(df, test_size=0.3, random_state=42)\n",
        "train_df_fake = pd.concat([train_df, df_fake])\n",
        "train_df_fake_with_noise = pd.concat([train_df, df_fake_with_noise])"
      ]
    },
    {
      "cell_type": "markdown",
      "metadata": {
        "id": "3vtK69wxryls"
      },
      "source": [
        "To make things easier to understand, let's define the datasets on which to train and on which to assess the results:"
      ]
    },
    {
      "cell_type": "code",
      "execution_count": null,
      "metadata": {
        "id": "jrpLDavsryls"
      },
      "outputs": [],
      "source": [
        "X_train, X_test, X_train_aug = train_df.iloc[:,:16].values, test_df.iloc[:,:16].values, train_df_fake_with_noise.iloc[:,:16].values\n",
        "y_train, y_test, y_train_aug = train_df.iloc[:,16].values, test_df.iloc[:,16].values, train_df_fake_with_noise.iloc[:,16].values"
      ]
    },
    {
      "cell_type": "markdown",
      "metadata": {
        "id": "_BCc7i_mryls"
      },
      "source": [
        "First, let's train model on the original data while using the differences in class occurences as weights."
      ]
    },
    {
      "cell_type": "code",
      "execution_count": null,
      "metadata": {
        "id": "ANCya3Ooryls"
      },
      "outputs": [],
      "source": [
        "def rf(xs, y, n_estimators=40, max_samples=400,\n",
        "       max_features=0.5, min_samples_leaf=5, **kwargs):\n",
        "    return RandomForestClassifier(n_jobs=-1, n_estimators=n_estimators,\n",
        "        max_samples=max_samples, max_features=max_features,\n",
        "        min_samples_leaf=min_samples_leaf, oob_score=True, class_weight={0:1,1:difference_in_class_occurences}).fit(xs, y)"
      ]
    },
    {
      "cell_type": "code",
      "execution_count": null,
      "metadata": {
        "id": "XEU32Zsgryls",
        "outputId": "b381d823-17b8-4ff0-a244-159fe47313cc",
        "colab": {
          "base_uri": "https://localhost:8080/"
        }
      },
      "outputs": [
        {
          "output_type": "execute_result",
          "data": {
            "text/plain": [
              "array([[ 84,  10],\n",
              "       [  7, 106]])"
            ]
          },
          "metadata": {},
          "execution_count": 63
        }
      ],
      "source": [
        "m = rf(X_train, y_train)\n",
        "confusion_matrix(y_test, np.round(m.predict(X_test)))"
      ]
    },
    {
      "cell_type": "markdown",
      "metadata": {
        "id": "zeoy6SlZryls"
      },
      "source": [
        "Then, we use the augmented dataframe:"
      ]
    },
    {
      "cell_type": "code",
      "execution_count": null,
      "metadata": {
        "id": "_guZA-1bryls"
      },
      "outputs": [],
      "source": [
        "def rf_aug(xs, y, n_estimators=40, max_samples=500,\n",
        "       max_features=0.5, min_samples_leaf=5, **kwargs):\n",
        "    return RandomForestClassifier(n_jobs=-1, n_estimators=n_estimators,\n",
        "        max_samples=max_samples, max_features=max_features,\n",
        "        min_samples_leaf=min_samples_leaf, oob_score=True).fit(xs, y)"
      ]
    },
    {
      "cell_type": "code",
      "execution_count": null,
      "metadata": {
        "id": "yxLHzGJrrylt",
        "outputId": "94b927e9-7cac-48f0-d681-d788feaf5467",
        "colab": {
          "base_uri": "https://localhost:8080/"
        }
      },
      "outputs": [
        {
          "output_type": "execute_result",
          "data": {
            "text/plain": [
              "array([[86,  8],\n",
              "       [17, 96]])"
            ]
          },
          "metadata": {},
          "execution_count": 65
        }
      ],
      "source": [
        "m_aug = rf_aug(X_train_aug, y_train_aug)\n",
        "confusion_matrix(y_test, np.round(m_aug.predict(X_test)))"
      ]
    },
    {
      "cell_type": "markdown",
      "metadata": {
        "id": "TdNu01KQrylt"
      },
      "source": [
        "Wow, I think that is quite astonishing. We managed to highly increase the number of fraud cases we are able to detect. Moreover, we achieved these results without any finetuning of the model architecture and simply using the default structure of the VAE. \n",
        "\n",
        "I hope this blog shed some light on why using this approach on highly biased data is worth a shot trying.\n",
        "\n",
        "Lasse"
      ]
    }
  ],
  "metadata": {
    "interpreter": {
      "hash": "31f2aee4e71d21fbe5cf8b01ff0e069b9275f58929596ceb00d14d90e3e16cd6"
    },
    "kernelspec": {
      "display_name": "Python 3.9.2 64-bit",
      "language": "python",
      "name": "python3"
    },
    "language_info": {
      "codemirror_mode": {
        "name": "ipython",
        "version": 3
      },
      "file_extension": ".py",
      "mimetype": "text/x-python",
      "name": "python",
      "nbconvert_exporter": "python",
      "pygments_lexer": "ipython3",
      "version": "3.8.10"
    },
    "orig_nbformat": 2,
    "colab": {
      "provenance": [],
      "include_colab_link": true
    },
    "gpuClass": "standard"
  },
  "nbformat": 4,
  "nbformat_minor": 0
}